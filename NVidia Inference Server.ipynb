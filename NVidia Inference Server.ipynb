{
 "cells": [
  {
   "cell_type": "markdown",
   "metadata": {},
   "source": [
    "# NVidia Inference Server\n",
    "\n",
    "## Setup account on NGC Cloud\n",
    "\n",
    "1. Go to http://ngc.nvidia.com and create an account.\n",
    "\n",
    "2. Generate an API Key.\n",
    "\n",
    "## Install docker-engine and nvidia-docker\n",
    "\n",
    "This assumes Ubuntu 16.04.\n",
    "\n",
    "    sudo apt-get update && sudo apt-get install apt-transport-https ca-certificates curl -y\n",
    "    sudo apt-key adv --keyserver hkp://p80.pool.sks-keyservers.net:80 \\\n",
    "        --recv-keys 58118E89F3A912897C070ADBF76221572C52609D\n",
    "    echo \"deb https://apt.dockerproject.org/repo ubuntu-xenial main\" | sudo tee /etc/apt/sources.list.d/docker.list\n",
    "    sudo apt-get update\n",
    "    sudo apt-get -y install docker-engine=1.12.6-0~ubuntu-xenial\n",
    "\n",
    "    wget -P /tmp https://github.com/NVIDIA/nvidia-docker/releases/download/v1.0.1/nvidia-docker_1.0.1-1_amd64.deb\n",
    "    sudo dpkg -i /tmp/nvidia-docker*.deb && rm /tmp/nvidia-docker*.deb\n",
    "    \n",
    "    sudo usermod -a -G docker $USER\n",
    "\n",
    "(You may need to log out and log in again in order to run docker commands as non-sudo)\n",
    "\n",
    "## Start an Inference Server instance\n",
    "\n",
    "3. Browse to [Inference Server images](https://ngc.nvidia.com/registry/nvidia-inferenceserver)\n",
    "\n",
    "4. Login docker to NGC:\n",
    "\n",
    "```\n",
    "    docker login nvcr.io\n",
    "```\n",
    "\n",
    "You will be prompted to enter a Username and Password. Type “$oauthtoken” exactly as shown, and enter your NGC API key obtained during NGC account setup:\n",
    "\n",
    "```\n",
    "    Username: $oauthtoken\n",
    "    Password: <Your NGC API Key>\n",
    "```\n",
    " \n",
    "5. Pull container for inference server.\n",
    "\n",
    "```\n",
    "    docker pull nvcr.io/nvidia/inferenceserver:18.07-py3\n",
    "```"
   ]
  },
  {
   "cell_type": "code",
   "execution_count": null,
   "metadata": {},
   "outputs": [],
   "source": []
  }
 ],
 "metadata": {
  "kernelspec": {
   "display_name": "Python 3",
   "language": "python",
   "name": "python3"
  },
  "language_info": {
   "codemirror_mode": {
    "name": "ipython",
    "version": 3
   },
   "file_extension": ".py",
   "mimetype": "text/x-python",
   "name": "python",
   "nbconvert_exporter": "python",
   "pygments_lexer": "ipython3",
   "version": "3.6.2"
  }
 },
 "nbformat": 4,
 "nbformat_minor": 2
}
