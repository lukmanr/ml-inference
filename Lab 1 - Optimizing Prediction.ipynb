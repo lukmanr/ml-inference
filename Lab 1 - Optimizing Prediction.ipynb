{
 "cells": [
  {
   "cell_type": "markdown",
   "metadata": {},
   "source": [
    "# Optimizing Models for Serving"
   ]
  },
  {
   "cell_type": "markdown",
   "metadata": {},
   "source": [
    "## Build the Graph Optimization Tool\n",
    "\n",
    "The full tools build takes ~ 20 minutes.  Start at the beginning of class!"
   ]
  },
  {
   "cell_type": "code",
   "execution_count": null,
   "metadata": {},
   "outputs": [],
   "source": [
    "%%bash\n",
    "# install bazel\n",
    "wget https://github.com/bazelbuild/bazel/releases/download/0.16.0/bazel-0.16.0-installer-linux-x86_64.sh\n",
    "chmod +x bazel-0.16.0-installer-linux-x86_64.sh\n",
    "./bazel-0.16.0-installer-linux-x86_64.sh --user\n",
    "export PATH=$HOME/bin:$PATH\n",
    "\n",
    "# build gtt and summarize graph\n",
    "git clone https://github.com/tensorflow/tensorflow\n",
    "cd tensorflow\n",
    "git checkout r1.9\n",
    "bazel build tensorflow/tools/graph_transforms:transform_graph\n",
    "bazel build tensorflow/tools/graph_transforms:summarize_graph"
   ]
  },
  {
   "cell_type": "markdown",
   "metadata": {},
   "source": [
    "## Download the SavedModel"
   ]
  },
  {
   "cell_type": "code",
   "execution_count": null,
   "metadata": {},
   "outputs": [],
   "source": [
    "%%bash\n",
    "gsutil cp gs://tfs-data/mnist_cnn_model.tgz .\n",
    "tar xzf mnist_cnn_model.tgz"
   ]
  },
  {
   "cell_type": "markdown",
   "metadata": {},
   "source": [
    "## Inspect the model"
   ]
  },
  {
   "cell_type": "code",
   "execution_count": null,
   "metadata": {},
   "outputs": [],
   "source": [
    "%%bash\n",
    "tensorflow/bazel-bin/tensorflow/tools/graph_transforms/summarize_graph --in_graph=mnist_cnn_model/graph.pbtxt"
   ]
  },
  {
   "cell_type": "markdown",
   "metadata": {},
   "source": [
    "## Run the Graph Optimization Tool on the model"
   ]
  },
  {
   "cell_type": "code",
   "execution_count": null,
   "metadata": {},
   "outputs": [],
   "source": [
    "%%bash\n",
    "\n",
    "tensorflow/bazel-bin/tensorflow/tools/graph_transforms/transform_graph \\\n",
    "--in_graph=mnist_cnn_model/graph.pbtxt \\\n",
    "--out_graph=mnist_cnn_model/optimized_model.pb \\\n",
    "--inputs='enqueue_input/Placeholder' \\\n",
    "--outputs='softmax' \\\n",
    "--transforms='\n",
    "strip_unused_nodes(type=float, shape=\"1,28,28,1\")\n",
    "remove_nodes(op=Identity, op=CheckNumerics)\n",
    "'"
   ]
  },
  {
   "cell_type": "markdown",
   "metadata": {},
   "source": [
    "## Inspect the model again"
   ]
  },
  {
   "cell_type": "code",
   "execution_count": null,
   "metadata": {},
   "outputs": [],
   "source": [
    "%%bash\n",
    "tensorflow/bazel-bin/tensorflow/tools/graph_transforms/summarize_graph --in_graph=mnist_cnn_model/graph.pbtxt"
   ]
  },
  {
   "cell_type": "markdown",
   "metadata": {},
   "source": [
    "## Freeze the graph"
   ]
  },
  {
   "cell_type": "code",
   "execution_count": null,
   "metadata": {},
   "outputs": [],
   "source": [
    "%%bash\n",
    "tensorflow/bazel-bin/tensorflow/python/tools/freeze_graph \\\n",
    "--input_graph=mnist_cnn_model/optimized_model.pb \\\n",
    "--input_checkpoint=mnist_cnn_model/model.ckpt-20000 \\\n",
    "--output_graph=mnist_cnn_model/frozen_graph.pb \\\n",
    "--output_node_names=softmax"
   ]
  },
  {
   "cell_type": "code",
   "execution_count": null,
   "metadata": {},
   "outputs": [],
   "source": [
    "%%bash\n",
    "tensorflow/bazel-bin/tensorflow/tools/graph_transforms/summarize_graph --in_graph=mnist_cnn_model/frozen_graph.pb"
   ]
  }
 ],
 "metadata": {
  "kernelspec": {
   "display_name": "Python 3",
   "language": "python",
   "name": "python3"
  },
  "language_info": {
   "codemirror_mode": {
    "name": "ipython",
    "version": 3
   },
   "file_extension": ".py",
   "mimetype": "text/x-python",
   "name": "python",
   "nbconvert_exporter": "python",
   "pygments_lexer": "ipython3",
   "version": "3.6.2"
  }
 },
 "nbformat": 4,
 "nbformat_minor": 2
}
